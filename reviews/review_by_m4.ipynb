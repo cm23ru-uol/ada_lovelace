{
 "cells": [
  {
   "cell_type": "markdown",
   "id": "8c952f00",
   "metadata": {},
   "source": [
    " My task was to combine use of all code written by my team members into a file and do some statistical analysis on the data provided. There seemed to be no pattern in the correct answer sequence. \n",
    " During this project, I've had to collaboratively overcome challenges in our code, for example an issue with a function which caused unecessary directories to be created which led to problems in locating respondent files. By communicating with the team member, we were able to find what was causing the problem - a hard-coded value for the output directory. The error was due to the fact that the exact file directories would be different on each persons computer so our solution was to instead pass the output directory as an argument to the function so different users of the function could put in the appropiate directory.\n",
    "\n",
    "Once I created a directory containing all the responses, I was able to access each individual text file response using pythons built in os library for working with system directories.\n",
    "\n",
    "After this, I was able to collate the respondent results and perform some analysis on the data, \n",
    "producing a plot showing average answer against the question number.\n",
    "\n",
    "This project has definitely made me more confident working with github, as through real-world trial and error, I now have a better understanding of the use of the basic push, pull and commit commands. I also understand the utility of using a version control system as during a problem we encountered, we were able to solve it by first reverting to a previous version of our project in the main branch."
   ]
  }
 ],
 "metadata": {
  "language_info": {
   "name": "python"
  }
 },
 "nbformat": 4,
 "nbformat_minor": 5
}
