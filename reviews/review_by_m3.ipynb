{
 "cells": [
  {
   "cell_type": "markdown",
   "id": "9be41d3a",
   "metadata": {},
   "source": [
    "I do data analysis module which focuses on processing the collated_answers. txt file and extracts individual respondent data using M1.extract_answers_sequence ().And then calculate the mean answer per question and visualises the results.\n",
    "I use the following functions:\n",
    "• split_collated_file (collated_path) - to split the text file into individual respondent blocks.\n",
    "• parse_all_sequence (collated_path) - to extract answer sequences using\n",
    "M1. extract_answers_sequence ().\n",
    "• generate_means_sequence(collated_path) - to calculate the mean answer for each question, ignoring zeros.\n",
    "• visualize_data (collated_path, n) - to display either the per-question mean (n=1) or individual sequences (n=2).\n"
   ]
  }
 ],
 "metadata": {
  "language_info": {
   "name": "python"
  }
 },
 "nbformat": 4,
 "nbformat_minor": 5
}
