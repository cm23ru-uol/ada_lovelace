{
  "cells": [
    {
      "cell_type": "markdown",
      "metadata": {},
      "source": [
        "# Project Review: data_extraction_M1.py"
      ]
    },
    {
      "cell_type": "markdown",
      "metadata": {},
      "source": [
        "In this project, I wrote a Python script named `data_extraction_M1.py` to process survey answer files. The first function reads a text file and extracts 100 answers, one for each question, by checking which option has an \"x\". The second function saves the answer list into a new file. I made sure the format is correct and added error checking for missing answers.\n\nThis program helps convert messy text survey data into clean numerical data. Through this project, I practiced file reading, loops, and basic error handling in Python. It was a simple but meaningful task for me."
      ]
    }
  ],
  "metadata": {
    "kernelspec": {
      "display_name": "Python 3",
      "language": "python",
      "name": "python3"
    },
    "language_info": {
      "name": "python",
      "version": ""
    }
  },
  "nbformat": 4,
  "nbformat_minor": 5
}