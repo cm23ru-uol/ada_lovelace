{
 "cells": [
  {
   "cell_type": "markdown",
   "id": "6c3e7b38",
   "metadata": {},
   "source": [
    "During this project my coding skills were developed through trial and error, and teacher assistance. \n",
    "I had issues with the download_answer_file, stemming from obtaining a cloud_url. I was not quite sure of this process, and therefore assumed I had to input individual links for each file from a cloud, or create an API (which the project was not intended for). After a couple of attempts, I finally reached out for assistance, and was told to create a github repository with the file, and was essentially taught how to extract each file within the folder by building the urls like this: {cloud_url}/{filename}. After overcoming this, it was straightforward to take each file from the URL and extract it into the data folder within the Group repository.\n",
    "The Collate_answer_files function was easier to work with, as it involved making the function output a file named “collated_answers.txt” within the folder ‘output’. The process was opening each file with one set of answers and putting it into “collated_answers.txt”, then sending an output that names each response to its corresponding “respondent”, creates a new line, adds a “*”, then finally adds another new line before looping for the next respondent. \n",
    "Working with VS code for the group project has made the software more comprehensible for me, where to begin with I was confused about “push”, “pull”, “commit”, “sync” etc, and now they are all actions I feel relatively confident working with. \n"
   ]
  },
  {
   "cell_type": "markdown",
   "id": "cec10019",
   "metadata": {},
   "source": []
  }
 ],
 "metadata": {
  "language_info": {
   "name": "python"
  }
 },
 "nbformat": 4,
 "nbformat_minor": 5
}
