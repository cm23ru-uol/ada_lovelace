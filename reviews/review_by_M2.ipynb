{
 "cells": [
  {
   "cell_type": "markdown",
   "id": "6c3e7b38",
   "metadata": {},
   "source": [
    "# Reviews: every team member must submit to the reviews/ folder of the GitHub repository a Jupyter notebooks review_by_M1.ipynb documenting each member’s review of their own work and investigation /evidence of pattern detection, or lack thereof (15%)"
   ]
  },
  {
   "cell_type": "markdown",
   "id": "cec10019",
   "metadata": {},
   "source": []
  }
 ],
 "metadata": {
  "language_info": {
   "name": "python"
  }
 },
 "nbformat": 4,
 "nbformat_minor": 5
}
