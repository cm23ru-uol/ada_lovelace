{
 "cells": [
  {
   "cell_type": "markdown",
   "id": "9be41d3a",
   "metadata": {},
   "source": [
    "I worked on the data analysis module which focuses on processing the collated_answers. txt file and extracting individual respondent data using\n",
    "M1. extract_answers_sequence ().I then calculate the mean answer per question and visualises the results.\n",
    "I used the following functions:\n",
    "1. split_collated_file (collated_path) - to split the text file into individual respondent blocks.\n",
    "2. parse_all_sequence (collated_path) - to extract answer sequences using M1. extract_answers_sequence ().\n",
    "3. generate_means_sequence (collated_path) - to calculate the mean answer for each question, ignoring zeros.\n",
    "4. visualize_data (collated_path, n) - to display either the per-question mean (n=1) or individual sequences (n=2).\n"
   ]
  }
 ],
 "metadata": {
  "language_info": {
   "name": "python"
  }
 },
 "nbformat": 4,
 "nbformat_minor": 5
}
